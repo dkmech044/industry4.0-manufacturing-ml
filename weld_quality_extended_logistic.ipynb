{
 "cells": [
  {
   "cell_type": "markdown",
   "id": "74e2b7db",
   "metadata": {},
   "source": [
    "# Weld Quality Prediction (Extended Dataset)"
   ]
  },
  {
   "cell_type": "code",
   "execution_count": null,
   "id": "2f1e3a01",
   "metadata": {},
   "outputs": [],
   "source": [
    "import pandas as pd\n",
    "import numpy as np\n",
    "from sklearn.model_selection import train_test_split\n",
    "from sklearn.preprocessing import LabelEncoder, StandardScaler\n",
    "from sklearn.linear_model import LogisticRegression\n",
    "from sklearn.metrics import classification_report, confusion_matrix\n",
    "import matplotlib.pyplot as plt\n",
    "import seaborn as sns"
   ]
  },
  {
   "cell_type": "code",
   "execution_count": null,
   "id": "c304f2c6",
   "metadata": {},
   "outputs": [],
   "source": [
    "df = pd.read_csv(\"weld_quality_extended_dataset.csv\")\n",
    "df.head()"
   ]
  },
  {
   "cell_type": "code",
   "execution_count": null,
   "id": "086b1ea5",
   "metadata": {},
   "outputs": [],
   "source": [
    "le_material = LabelEncoder()\n",
    "df['Material_Pair_Encoded'] = le_material.fit_transform(df['Material_Pair'])\n",
    "\n",
    "le_waveform = LabelEncoder()\n",
    "df['Waveform_Type_Encoded'] = le_waveform.fit_transform(df['Waveform_Type'])\n",
    "\n",
    "X = df[['Impact_Velocity', 'Flyer_Angle', 'Material_Pair_Encoded',\n",
    "        'Yield_Strength', 'Interface_Temperature', 'Waveform_Type_Encoded']]\n",
    "y = df['Weld_Quality']\n",
    "y_encoded = LabelEncoder().fit_transform(y)\n",
    "\n",
    "scaler = StandardScaler()\n",
    "X_scaled = scaler.fit_transform(X)"
   ]
  },
  {
   "cell_type": "code",
   "execution_count": null,
   "id": "4b0e5564",
   "metadata": {},
   "outputs": [],
   "source": [
    "X_train, X_test, y_train, y_test = train_test_split(X_scaled, y_encoded, test_size=0.2, random_state=42)\n",
    "\n",
    "model = LogisticRegression(random_state=42)\n",
    "model.fit(X_train, y_train)"
   ]
  },
  {
   "cell_type": "code",
   "execution_count": null,
   "id": "27847463",
   "metadata": {},
   "outputs": [],
   "source": [
    "y_pred = model.predict(X_test)\n",
    "print(classification_report(y_test, y_pred))\n",
    "print(confusion_matrix(y_test, y_pred))\n",
    "\n",
    "plt.figure(figsize=(6,4))\n",
    "sns.heatmap(confusion_matrix(y_test, y_pred), annot=True, cmap='Greens', fmt='d')\n",
    "plt.title(\"Confusion Matrix\")\n",
    "plt.xlabel(\"Predicted\")\n",
    "plt.ylabel(\"Actual\")\n",
    "plt.show()"
   ]
  }
 ],
 "metadata": {},
 "nbformat": 4,
 "nbformat_minor": 5
}